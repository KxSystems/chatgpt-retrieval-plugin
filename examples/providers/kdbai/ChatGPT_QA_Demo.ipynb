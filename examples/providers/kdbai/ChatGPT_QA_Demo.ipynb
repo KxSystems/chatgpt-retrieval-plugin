{
 "cells": [
  {
   "cell_type": "markdown",
   "metadata": {},
   "source": [
    "# KDB.AI for Q&A with ChatGPT Retrieval Plugin"
   ]
  },
  {
   "cell_type": "markdown",
   "metadata": {},
   "source": [
    "## Getting Started\n",
    "\n",
    "### Prerequisites\n",
    "\n",
    "- Python 3\n",
    "- Pip\n",
    "- Git\n",
    "\n",
    "### Install the KDB.AI ChatGPT Retrieval Plugin server app\n",
    "\n",
    "```\n",
    "git clone https://github.com/KxSystems/chatgpt-retrieval-plugin -b KDB.AI\n",
    "cd chatgpt-retrieval-plugin\n",
    "pip install poetry\n",
    "poetry install\n",
    "```\n",
    "\n",
    "### Run the KDB.AI ChatGPT Retrieval Plugin server app\n",
    "\n",
    "```\n",
    "export BEARER_TOKEN='<BEARER TOKEN>'  # you can create your own bearer token on auth0.com\n",
    "export DATASTORE=kdbai\n",
    "export KDBAI_ENDPOINT='<KDB.AI ENDPOINT>'\n",
    "export KDBAI_API_KEY='<KDB.AI API KEY>'\n",
    "export OPENAI_API_KEY='<OPENAI API KEY>'  # You can get a free API key on https://platform.openai.com\n",
    "\n",
    "poetry run start\n",
    "```\n",
    "\n",
    "### Install a separate Jupyter environment to run this notebook\n",
    "\n",
    "```\n",
    "pip install datasets jupyter openai tqdm\n",
    "```\n",
    "\n",
    "### Run Jupyter\n",
    "\n",
    "```\n",
    "export BEARER_TOKEN='<BEARER TOKEN>'  # Same bearer token as above\n",
    "export OPENAI_API_KEY='<OPENAI API KEY>'\n",
    "\n",
    "jupyter notebook\n",
    "```\n",
    "\n",
    "Then open this notebook in Jupyter."
   ]
  },
  {
   "cell_type": "code",
   "execution_count": 1,
   "metadata": {},
   "outputs": [],
   "source": [
    "import os\n",
    "from pprint import pprint\n",
    "import random\n",
    "\n",
    "from datasets import load_dataset\n",
    "import openai\n",
    "import requests\n",
    "from tqdm.auto import tqdm"
   ]
  },
  {
   "cell_type": "code",
   "execution_count": 2,
   "metadata": {},
   "outputs": [],
   "source": [
    "BEARER_TOKEN = os.environ.get(\"BEARER_TOKEN\")"
   ]
  },
  {
   "cell_type": "markdown",
   "metadata": {},
   "source": [
    "### Load Dataset from Hugging Face\n",
    "\n",
    "The Adversarial_QA dataset is chosen for this demo.\n",
    "The adversarial human annotation paradigm ensures that these datasets consist of questions that current state-of-the-art models find challenging."
   ]
  },
  {
   "cell_type": "code",
   "execution_count": 3,
   "metadata": {},
   "outputs": [
    {
     "name": "stdout",
     "output_type": "stream",
     "text": [
      "Number of unique contexts: 2648\n"
     ]
    },
    {
     "data": {
      "text/html": [
       "<div>\n",
       "<style scoped>\n",
       "    .dataframe tbody tr th:only-of-type {\n",
       "        vertical-align: middle;\n",
       "    }\n",
       "\n",
       "    .dataframe tbody tr th {\n",
       "        vertical-align: top;\n",
       "    }\n",
       "\n",
       "    .dataframe thead th {\n",
       "        text-align: right;\n",
       "    }\n",
       "</style>\n",
       "<table border=\"1\" class=\"dataframe\">\n",
       "  <thead>\n",
       "    <tr style=\"text-align: right;\">\n",
       "      <th></th>\n",
       "      <th>id</th>\n",
       "      <th>title</th>\n",
       "      <th>context</th>\n",
       "      <th>question</th>\n",
       "      <th>answers</th>\n",
       "      <th>metadata</th>\n",
       "    </tr>\n",
       "  </thead>\n",
       "  <tbody>\n",
       "    <tr>\n",
       "      <th>0</th>\n",
       "      <td>7ba1e8f4261d3170fcf42e84a81dd749116fae95</td>\n",
       "      <td>Brain</td>\n",
       "      <td>Another approach to brain function is to exami...</td>\n",
       "      <td>What sare the benifts of the blood brain barrir?</td>\n",
       "      <td>{'text': ['isolated from the bloodstream'], 'a...</td>\n",
       "      <td>{'split': 'train', 'model_in_the_loop': 'Combi...</td>\n",
       "    </tr>\n",
       "    <tr>\n",
       "      <th>12</th>\n",
       "      <td>936a8460bfffe437b54cf3ec1e825a3b7b5627a1</td>\n",
       "      <td>Brain</td>\n",
       "      <td>Motor systems are areas of the brain that are ...</td>\n",
       "      <td>What do you think with?</td>\n",
       "      <td>{'text': ['brain'], 'answer_start': [467]}</td>\n",
       "      <td>{'split': 'train', 'model_in_the_loop': 'Combi...</td>\n",
       "    </tr>\n",
       "    <tr>\n",
       "      <th>24</th>\n",
       "      <td>e40737d487964dbcd26a223f2799cf56390a98a8</td>\n",
       "      <td>Brain</td>\n",
       "      <td>The brain is an organ that serves as the cente...</td>\n",
       "      <td>How are neurons connected?</td>\n",
       "      <td>{'text': ['synapses'], 'answer_start': [602]}</td>\n",
       "      <td>{'split': 'train', 'model_in_the_loop': 'Combi...</td>\n",
       "    </tr>\n",
       "    <tr>\n",
       "      <th>37</th>\n",
       "      <td>a0f8e785a10f6e21e24207d24ba2823162383062</td>\n",
       "      <td>Brain</td>\n",
       "      <td>The SCN projects to a set of areas in the hypo...</td>\n",
       "      <td>The body's central biological clock is contain...</td>\n",
       "      <td>{'text': ['SCN'], 'answer_start': [4]}</td>\n",
       "      <td>{'split': 'train', 'model_in_the_loop': 'Combi...</td>\n",
       "    </tr>\n",
       "    <tr>\n",
       "      <th>53</th>\n",
       "      <td>6d753d4a8878b5f5bc496d9a369b8c0b212079a0</td>\n",
       "      <td>Brain</td>\n",
       "      <td>The brain contains several motor areas that pr...</td>\n",
       "      <td>What is at the highest level?</td>\n",
       "      <td>{'text': ['the primary motor cortex'], 'answer...</td>\n",
       "      <td>{'split': 'train', 'model_in_the_loop': 'Combi...</td>\n",
       "    </tr>\n",
       "  </tbody>\n",
       "</table>\n",
       "</div>"
      ],
      "text/plain": [
       "                                          id  title  \\\n",
       "0   7ba1e8f4261d3170fcf42e84a81dd749116fae95  Brain   \n",
       "12  936a8460bfffe437b54cf3ec1e825a3b7b5627a1  Brain   \n",
       "24  e40737d487964dbcd26a223f2799cf56390a98a8  Brain   \n",
       "37  a0f8e785a10f6e21e24207d24ba2823162383062  Brain   \n",
       "53  6d753d4a8878b5f5bc496d9a369b8c0b212079a0  Brain   \n",
       "\n",
       "                                              context  \\\n",
       "0   Another approach to brain function is to exami...   \n",
       "12  Motor systems are areas of the brain that are ...   \n",
       "24  The brain is an organ that serves as the cente...   \n",
       "37  The SCN projects to a set of areas in the hypo...   \n",
       "53  The brain contains several motor areas that pr...   \n",
       "\n",
       "                                             question  \\\n",
       "0    What sare the benifts of the blood brain barrir?   \n",
       "12                            What do you think with?   \n",
       "24                         How are neurons connected?   \n",
       "37  The body's central biological clock is contain...   \n",
       "53                      What is at the highest level?   \n",
       "\n",
       "                                              answers  \\\n",
       "0   {'text': ['isolated from the bloodstream'], 'a...   \n",
       "12         {'text': ['brain'], 'answer_start': [467]}   \n",
       "24      {'text': ['synapses'], 'answer_start': [602]}   \n",
       "37             {'text': ['SCN'], 'answer_start': [4]}   \n",
       "53  {'text': ['the primary motor cortex'], 'answer...   \n",
       "\n",
       "                                             metadata  \n",
       "0   {'split': 'train', 'model_in_the_loop': 'Combi...  \n",
       "12  {'split': 'train', 'model_in_the_loop': 'Combi...  \n",
       "24  {'split': 'train', 'model_in_the_loop': 'Combi...  \n",
       "37  {'split': 'train', 'model_in_the_loop': 'Combi...  \n",
       "53  {'split': 'train', 'model_in_the_loop': 'Combi...  "
      ]
     },
     "execution_count": 3,
     "metadata": {},
     "output_type": "execute_result"
    }
   ],
   "source": [
    "data = load_dataset(\"adversarial_qa\", 'adversarialQA', split=\"train\").to_pandas()\n",
    "data = data.drop_duplicates(subset=[\"context\"])\n",
    "print(f\"Number of unique contexts: {len(data)}\")\n",
    "data.head()"
   ]
  },
  {
   "cell_type": "code",
   "execution_count": 4,
   "metadata": {},
   "outputs": [
    {
     "name": "stdout",
     "output_type": "stream",
     "text": [
      "{'text': 'Another approach to brain function is to examine the consequences of '\n",
      "         'damage to specific brain areas. Even though it is protected by the '\n",
      "         'skull and meninges, surrounded by cerebrospinal fluid, and isolated '\n",
      "         'from the bloodstream by the blood–brain barrier, the delicate nature '\n",
      "         'of the brain makes it vulnerable to numerous diseases and several '\n",
      "         'types of damage. In humans, the effects of strokes and other types '\n",
      "         'of brain damage have been a key source of information about brain '\n",
      "         'function. Because there is no ability to experimentally control the '\n",
      "         'nature of the damage, however, this information is often difficult '\n",
      "         'to interpret. In animal studies, most commonly involving rats, it is '\n",
      "         'possible to use electrodes or locally injected chemicals to produce '\n",
      "         'precise patterns of damage and then examine the consequences for '\n",
      "         'behavior.'}\n"
     ]
    }
   ],
   "source": [
    "# extract text data from the dataset\n",
    "documents = [\n",
    "    {\n",
    "        'text': r['context'],\n",
    "    } for r in data.to_dict(orient='records')\n",
    "]\n",
    "pprint(documents[0])"
   ]
  },
  {
   "cell_type": "code",
   "execution_count": 5,
   "metadata": {},
   "outputs": [],
   "source": [
    "# initialise an HTTP session with the KDB.AI ChatGPT Retrieval Plugin app\n",
    "s = requests.Session()"
   ]
  },
  {
   "cell_type": "markdown",
   "metadata": {},
   "source": [
    "### Insert data to the KDB.AI table"
   ]
  },
  {
   "cell_type": "markdown",
   "metadata": {},
   "source": [
    "The `/upsert` instruction is used to insert data to the KDB.AI datastore in batches, with each batch being embedded with `text-embedding-ada-002` before it is added to the table."
   ]
  },
  {
   "cell_type": "code",
   "execution_count": 6,
   "metadata": {},
   "outputs": [
    {
     "data": {
      "application/vnd.jupyter.widget-view+json": {
       "model_id": "b84c895cf81a456db5654c7c0c53ff69",
       "version_major": 2,
       "version_minor": 0
      },
      "text/plain": [
       "  0%|          | 0/27 [00:00<?, ?it/s]"
      ]
     },
     "metadata": {},
     "output_type": "display_data"
    }
   ],
   "source": [
    "batchSize = 100\n",
    "\n",
    "# upsert documents from the dataset in batches\n",
    "for i in tqdm(range(0, len(documents), batchSize)):\n",
    "    i_end = min(len(documents), i+batchSize)\n",
    "    \n",
    "    res = s.post(\n",
    "        \"http://localhost:8000/upsert\",\n",
    "        \n",
    "        headers = {\n",
    "            \"Authorization\": f\"Bearer {BEARER_TOKEN}\"\n",
    "        },\n",
    "        \n",
    "        json = {\n",
    "            \"documents\": documents[i:i_end]\n",
    "        }\n",
    "    )"
   ]
  },
  {
   "cell_type": "markdown",
   "metadata": {},
   "source": [
    "### Query the KDB.AI table"
   ]
  },
  {
   "cell_type": "code",
   "execution_count": 7,
   "metadata": {},
   "outputs": [
    {
     "name": "stdout",
     "output_type": "stream",
     "text": [
      "[{'query': 'what group is mentioned second to last?'}, {'query': 'What is the type of the third mentioned location?'}, {'query': 'What intangible object is central to the proper functioning of a lighting fixture?'}, {'query': 'What is the exception to the less bright form being a type of light meant to illuminate broadly?'}, {'query': 'Solid state lighting has increased because of what?'}]\n"
     ]
    }
   ],
   "source": [
    "# extract questions and reformat into queries\n",
    "queries = data['question'].tolist()\n",
    "queries = [{'query': queries[i]} for i in range(len(queries))]\n",
    "\n",
    "# choose 5 queries at random \n",
    "i = random.randint(0, len(queries)-5)\n",
    "searchQueries = queries[i:i+5]\n",
    "\n",
    "print(searchQueries)"
   ]
  },
  {
   "cell_type": "markdown",
   "metadata": {},
   "source": [
    "The `/query` instruction is used to extract relevant information from the KDB.AI datastore. The queries are embedded into vectors, and a similarity search algorithm is used to calculate its nearest neighbours, representing the most relevant entries in the table."
   ]
  },
  {
   "cell_type": "code",
   "execution_count": 8,
   "metadata": {},
   "outputs": [
    {
     "name": "stdout",
     "output_type": "stream",
     "text": [
      "<Response [200]>\n"
     ]
    }
   ],
   "source": [
    "# query the vector database\n",
    "results = requests.post(\n",
    "    \"http://localhost:8000/query\",\n",
    "    \n",
    "    headers = {\n",
    "        \"Authorization\": f\"Bearer {BEARER_TOKEN}\"\n",
    "    },\n",
    "    \n",
    "    json = {\n",
    "        'queries': searchQueries\n",
    "    }\n",
    ")\n",
    "\n",
    "print(results)"
   ]
  },
  {
   "cell_type": "markdown",
   "metadata": {},
   "source": [
    "In the cell below, we iterate through each query and its results, and pass this data to ChatGPT, which uses it to respond to the query with natural language."
   ]
  },
  {
   "cell_type": "code",
   "execution_count": 9,
   "metadata": {},
   "outputs": [
    {
     "name": "stdout",
     "output_type": "stream",
     "text": [
      "\n",
      "QUERY:\n",
      "what group is mentioned second to last?\n",
      "\n",
      "CONTEXT:\n",
      "0.43: Listing all finite simple groups was a major achievement in contemporary group theory. 1998 Fields Medal winner Richard Borcherds succeeded in proving the monstrous moonshine conjectures, a surprising and deep relation between the largest finite simple sporadic group—the \"monster group\"—and certain modular functions, a piece of classical complex analysis, and string theory, a theory supposed to unify the description of many physical phenomena.\n",
      "0.44: note 2]\n",
      "0.44: note 2]\n",
      "\n",
      "RESPONSE: \n",
      "The group mentioned second to last is the \"monster group,\" which is the largest finite simple sporadic group.\n",
      "\n",
      "----------------------------------------------------------------------\n",
      "\n",
      "QUERY:\n",
      "What is the type of the third mentioned location?\n",
      "\n",
      "CONTEXT:\n",
      "0.44: Upper Palaeolithic deposits, including bones of Homo sapiens, have been found in local caves, and artefacts dating from the Bronze Age to the Middle Iron Age have been found at Mount Batten showing that it was one of the main trading ports of the country at that time. An unidentified settlement named 'TAMARI OSTIA' (mouth/estuaries of the Tamar) is listed in Ptolemy's Geographia and is presumed to be located in the area of the modern city.\n",
      "0.45: 29 East 32nd Street was the location of the first building owned by the Grolier Club between 1890 and 1917.\n",
      "0.45: The city grew out towards the west of the boundaries of the peninsula formed by the River Aare. The Zytglogge tower marked the western boundary of the city from 1191 until 1256, when the Käfigturm took over this role until 1345. It was, in turn, succeeded by the Christoffelturm (formerly located close to the site of the modern-day railway station) until 1622. During the time of the Thirty Years' War, two new fortifications – the so-called big and small Schanze (entrenchment) – were built to protect the whole area of the peninsula.\n",
      "\n",
      "RESPONSE: \n",
      "The type of the third mentioned location is a city.\n",
      "\n",
      "----------------------------------------------------------------------\n",
      "\n",
      "QUERY:\n",
      "What intangible object is central to the proper functioning of a lighting fixture?\n",
      "\n",
      "CONTEXT:\n",
      "0.27: Lighting fixtures come in a wide variety of styles for various functions. The most important functions are as a holder for the light source, to provide directed light and to avoid visual glare. Some are very plain and functional, while some are pieces of art in themselves. Nearly any material can be used, so long as it can tolerate the excess heat and is in keeping with safety codes.\n",
      "0.29: An important property of light fixtures is the luminous efficacy or wall-plug efficiency, meaning the amount of usable light emanating from the fixture per used energy, usually measured in lumen per watt. A fixture using replaceable light sources can also have its efficiency quoted as the percentage of light passed from the \"bulb\" to the surroundings. The more transparent the lighting fixture is, the higher efficacy. Shading the light will normally decrease efficacy but increase the directionality and the visual comfort probability.\n",
      "0.36: Recessed lighting (often called \"pot lights\" in Canada, \"can lights\" or 'high hats\" in the US) is popular, with fixtures mounted into the ceiling structure so as to appear flush with it. These downlights can use narrow beam spotlights, or wider-angle floodlights, both of which are bulbs having their own reflectors. There are also downlights with internal reflectors designed to accept common 'A' lamps (light bulbs) which are generally less costly than reflector lamps. Downlights can be incandescent, fluorescent, HID (high intensity discharge) or LED.\n",
      "\n",
      "RESPONSE: \n",
      "The intangible object that is central to the proper functioning of a lighting fixture is light. Without the presence of light, a lighting fixture would not be able to fulfill its function of providing illumination.\n",
      "\n",
      "----------------------------------------------------------------------\n",
      "\n",
      "QUERY:\n",
      "What is the exception to the less bright form being a type of light meant to illuminate broadly?\n",
      "\n",
      "CONTEXT:\n",
      "0.34: The illuminated ceiling was once popular in the 1960s and 1970s but fell out of favor after the 1980s. This uses diffuser panels hung like a suspended ceiling below fluorescent lights, and is considered general lighting. Other forms include neon, which is not usually intended to illuminate anything else, but to actually be an artwork in itself. This would probably fall under accent lighting, though in a dark nightclub it could be considered general lighting.\n",
      "0.38: Expansive interior light has been a feature of Gothic cathedrals since the first structure was opened. The metaphysics of light in the Middle Ages led to clerical belief in its divinity and the importance of its display in holy settings. Much of this belief was based on the writings of Pseudo-Dionysius, a sixth-century mystic whose book, The Celestial Hierarchy, was popular among monks in France. Pseudo-Dionysius held that all light, even light reflected from metals or streamed through windows, was divine. To promote such faith, the abbot in charge of the Saint-Denis church on the north edge of Paris, the Abbot Suger, encouraged architects remodeling the building to make the interior as bright as possible.\n",
      "0.38: Lighting fixtures come in a wide variety of styles for various functions. The most important functions are as a holder for the light source, to provide directed light and to avoid visual glare. Some are very plain and functional, while some are pieces of art in themselves. Nearly any material can be used, so long as it can tolerate the excess heat and is in keeping with safety codes.\n",
      "\n",
      "RESPONSE: \n",
      "The exception to the less bright form being a type of light meant to illuminate broadly is neon lighting. Neon lighting is not usually intended to illuminate anything else but is instead designed to be an artwork in itself. It is often used as accent lighting, although in a dark nightclub setting, it could be considered general lighting. Neon lighting is known for its vibrant colors and can create a unique and eye-catching ambiance.\n",
      "\n",
      "----------------------------------------------------------------------\n",
      "\n",
      "QUERY:\n",
      "Solid state lighting has increased because of what?\n",
      "\n",
      "CONTEXT:\n",
      "0.28: In recent years light emitting diodes (LEDs) are becoming increasingly efficient leading to an extraordinary increase in the use of solid state lighting. In many situations, controlling the light emission of LEDs may be done most effectively by using the principles of nonimaging optics.\n",
      "0.31: citation needed] This new development revolutionized LED lighting, making high-power blue light sources practical, leading to the development of technologies like BlueRay, as well as allowing the bright high resolution screens of modern tablets and phones.[citation needed]\n",
      "0.35: Among the challenges being faced to improve the efficiency of LED-based white light sources is the development of more efficient phosphors. As of 2010, the most efficient yellow phosphor is still the YAG phosphor, with less than 10% Stoke shift loss. Losses attributable to internal optical losses due to re-absorption in the LED chip and in the LED packaging itself account typically for another 10% to 30% of efficiency loss. Currently, in the area of phosphor LED development, much effort is being spent on optimizing these devices to higher light output and higher operation temperatures. For instance, the efficiency can be raised by adapting better package design or by using a more suitable type of phosphor. Conformal coating process is frequently used to address the issue of varying phosphor thickness.\n",
      "\n",
      "RESPONSE: \n",
      "Solid state lighting has increased due to the increasing efficiency of light emitting diodes (LEDs) in recent years. The use of nonimaging optics principles has been effective in controlling the light emission of LEDs. This development has revolutionized LED lighting, allowing for practical high-power blue light sources and enabling technologies like Blu-Ray, as well as the bright high-resolution screens of modern devices such as tablets and phones.\n",
      "\n",
      "----------------------------------------------------------------------\n"
     ]
    }
   ],
   "source": [
    "# iterate through each set of queries/results\n",
    "for query_response in results.json()['results']:\n",
    "    query = query_response['query']\n",
    "    answers = []\n",
    "    scores = []\n",
    "    \n",
    "    # extract answers and scores from each result\n",
    "    for result in query_response['results']:\n",
    "        \n",
    "        # answer = textual information related to the query\n",
    "        answers.append(result['text'])\n",
    "        \n",
    "        # score = distance between the query vector and the answer vector (smaller=better!)\n",
    "        scores.append(round(result['score'], 2))\n",
    "    \n",
    "    # print the query\n",
    "    print(\"\\nQUERY:\\n\"+query)\n",
    "    \n",
    "    # print the query responses, and their scores\n",
    "    print(\"\\nCONTEXT:\\n\"+\"\\n\".join([f\"{s}: {a}\" for a, s in zip(answers, scores)])+\"\\n\")\n",
    "    \n",
    "    # format the query and its answers into GPT messages\n",
    "    messages = [\n",
    "        {\"role\": \"system\", \"content\": f\"You are a helpful assistant with the following knowledge: {answers}\"},\n",
    "        {\"role\": \"user\", \"content\": f\"Using your knowledge, answer this query: {query}\"}\n",
    "    ]\n",
    "    \n",
    "    # send the messages to a GPT model\n",
    "    response = openai.ChatCompletion.create(\n",
    "      model=\"gpt-3.5-turbo\",\n",
    "      messages=messages,\n",
    "      max_tokens=100,\n",
    "      n=1,\n",
    "      stop=None,            \n",
    "    )\n",
    "\n",
    "    # extract the generated response from the API response\n",
    "    generated_response =response['choices'][0]['message']['content']\n",
    "    \n",
    "    # Print the generated response\n",
    "    print(f\"RESPONSE: \\n{generated_response}\\n\")\n",
    "    print(\"-\"*70)"
   ]
  },
  {
   "cell_type": "markdown",
   "metadata": {},
   "source": [
    "### Delete the KDB.AI table"
   ]
  },
  {
   "cell_type": "code",
   "execution_count": 10,
   "metadata": {},
   "outputs": [],
   "source": [
    "## One would need to restart the KDB.AI ChatGPT Retrieval Plugin server app\n",
    "## after this, to recreate the table\n",
    "res = requests.delete(\n",
    "    \"http://localhost:8000/delete\",\n",
    "    headers = {\n",
    "        \"Authorization\": f\"Bearer {BEARER_TOKEN}\"\n",
    "    }, \n",
    "    json = {\n",
    "        \"delete_all\": True\n",
    "    }\n",
    ")"
   ]
  },
  {
   "cell_type": "code",
   "execution_count": null,
   "metadata": {},
   "outputs": [],
   "source": []
  }
 ],
 "metadata": {
  "kernelspec": {
   "display_name": "Python 3",
   "language": "python",
   "name": "python3"
  },
  "language_info": {
   "codemirror_mode": {
    "name": "ipython",
    "version": 3
   },
   "file_extension": ".py",
   "mimetype": "text/x-python",
   "name": "python",
   "nbconvert_exporter": "python",
   "pygments_lexer": "ipython3",
   "version": "3.10.12"
  }
 },
 "nbformat": 4,
 "nbformat_minor": 4
}
