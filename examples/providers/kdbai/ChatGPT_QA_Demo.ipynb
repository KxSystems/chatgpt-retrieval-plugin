{
 "cells": [
  {
   "cell_type": "markdown",
   "metadata": {},
   "source": [
    "# KDB.AI for Q&A with ChatGPT Retrieval Plugin"
   ]
  },
  {
   "cell_type": "markdown",
   "metadata": {},
   "source": [
    "1. Install Python 3.10 if not already installed.\n",
    "\n",
    "2. Clone the `retrieval-app` repository:\n",
    "\n",
    "```\n",
    "git clone git@github.com:openai/retrieval-app.git\n",
    "```\n",
    "\n",
    "3. Navigate to the app directory:\n",
    "\n",
    "```\n",
    "cd /path/to/retrieval-app\n",
    "```\n",
    "\n",
    "4. Install `poetry`:\n",
    "\n",
    "```\n",
    "pip install poetry\n",
    "```\n",
    "\n",
    "5. Create a new virtual environment:\n",
    "\n",
    "```\n",
    "poetry env use python3.10\n",
    "```\n",
    "\n",
    "6. Install the `retrieval-app` dependencies:\n",
    "\n",
    "    Before installing the dependencies with poetry, we will need to add PyKX and a local KDBAI python package as a dependence in the `pyproject.toml` file. This can be done by by adding the following lines under `[tool.poetry.dependencies]`:\n",
    "\n",
    "* __pykx = \"^1.6.3\"__\n",
    "* __kdbai = { path = \"path/to/kdbai-python-client\" }__\n",
    "\n",
    "    Once these have been added, install dependencies to the poetry environment:\n",
    "\n",
    "```\n",
    "poetry install\n",
    "```\n",
    "\n",
    "7. Set up the KDB.AI Cloud Server\n",
    "    \n",
    "    Sign up for an account [here](https://test.qa.cld.kx.com/kdbai/signup/) and verify your email to receive your host url (access endpoint) and KDB.AI API key.\n",
    "\n",
    "\n",
    "8. Set app environment variables:\n",
    "\n",
    "* `BEARER_TOKEN`: Secret token used by the app to authorize incoming requests. The token can be generated using [jwt.io](https://jwt.io/).\n",
    "* `OPENAI_API_KEY`: The OpenAI API key used for generating embeddings with the `text-embedding-ada-002` model. [Get an API key here](https://platform.openai.com/account/api-keys)!\n",
    "\n",
    "\n",
    "9. Set `KDBAI`-specific environment variables:\n",
    "\n",
    "* `DATASTORE`: set to `kdbai`\n",
    "* `KDBAI_ENDPOINT`: set to your Cloud host url ('https://ui.qa.cld.kx.com/instance/abcde12345' - omit '/api/v1/config/table')\n",
    "* `KDBAI_API_KEY`: set to your Cloud KDB.AI API key\n",
    "\n",
    "10. Run the app with:\n",
    "\n",
    "```\n",
    "poetry run start\n",
    "```\n",
    "The ChatGPT plugin is ready to handle requests when `Application startup complete` is printed to the terminal.\n",
    "\n",
    "When the application is up and running a FastAPI server exposes the ChatGPT plugin's endpoints for `upserting`, `querying`, and `deleting` documents.\n",
    "\n",
    "During the start up of the application, a new table named `documents` is created in `KDB.AI` with default parameters `{type='flat', metric='L2', dims=1536}`. This table will contain vector embeddings of the data, with an HNSW index for similarity searching. "
   ]
  },
  {
   "cell_type": "code",
   "execution_count": 1,
   "metadata": {},
   "outputs": [],
   "source": [
    "import os\n",
    "import random\n",
    "import requests\n",
    "from tqdm.auto import tqdm\n",
    "from datasets import load_dataset\n",
    "\n",
    "import openai"
   ]
  },
  {
   "cell_type": "code",
   "execution_count": 2,
   "metadata": {},
   "outputs": [],
   "source": [
    "BEARER_TOKEN = os.environ.get(\"BEARER_TOKEN\")"
   ]
  },
  {
   "cell_type": "markdown",
   "metadata": {},
   "source": [
    "### Load Dataset from Hugging Face\n",
    "\n",
    "The Adversarial_QA dataset is chosen for this demo.\n",
    "The adversarial human annotation paradigm ensures that these datasets consist of questions that current state-of-the-art models find challenging."
   ]
  },
  {
   "cell_type": "code",
   "execution_count": 3,
   "metadata": {},
   "outputs": [
    {
     "name": "stdout",
     "output_type": "stream",
     "text": [
      "Number of unique contexts: 2648\n"
     ]
    },
    {
     "data": {
      "text/html": [
       "<div>\n",
       "<style scoped>\n",
       "    .dataframe tbody tr th:only-of-type {\n",
       "        vertical-align: middle;\n",
       "    }\n",
       "\n",
       "    .dataframe tbody tr th {\n",
       "        vertical-align: top;\n",
       "    }\n",
       "\n",
       "    .dataframe thead th {\n",
       "        text-align: right;\n",
       "    }\n",
       "</style>\n",
       "<table border=\"1\" class=\"dataframe\">\n",
       "  <thead>\n",
       "    <tr style=\"text-align: right;\">\n",
       "      <th></th>\n",
       "      <th>id</th>\n",
       "      <th>title</th>\n",
       "      <th>context</th>\n",
       "      <th>question</th>\n",
       "      <th>answers</th>\n",
       "      <th>metadata</th>\n",
       "    </tr>\n",
       "  </thead>\n",
       "  <tbody>\n",
       "    <tr>\n",
       "      <th>0</th>\n",
       "      <td>7ba1e8f4261d3170fcf42e84a81dd749116fae95</td>\n",
       "      <td>Brain</td>\n",
       "      <td>Another approach to brain function is to exami...</td>\n",
       "      <td>What sare the benifts of the blood brain barrir?</td>\n",
       "      <td>{'text': ['isolated from the bloodstream'], 'a...</td>\n",
       "      <td>{'split': 'train', 'model_in_the_loop': 'Combi...</td>\n",
       "    </tr>\n",
       "    <tr>\n",
       "      <th>12</th>\n",
       "      <td>936a8460bfffe437b54cf3ec1e825a3b7b5627a1</td>\n",
       "      <td>Brain</td>\n",
       "      <td>Motor systems are areas of the brain that are ...</td>\n",
       "      <td>What do you think with?</td>\n",
       "      <td>{'text': ['brain'], 'answer_start': [467]}</td>\n",
       "      <td>{'split': 'train', 'model_in_the_loop': 'Combi...</td>\n",
       "    </tr>\n",
       "    <tr>\n",
       "      <th>24</th>\n",
       "      <td>e40737d487964dbcd26a223f2799cf56390a98a8</td>\n",
       "      <td>Brain</td>\n",
       "      <td>The brain is an organ that serves as the cente...</td>\n",
       "      <td>How are neurons connected?</td>\n",
       "      <td>{'text': ['synapses'], 'answer_start': [602]}</td>\n",
       "      <td>{'split': 'train', 'model_in_the_loop': 'Combi...</td>\n",
       "    </tr>\n",
       "    <tr>\n",
       "      <th>37</th>\n",
       "      <td>a0f8e785a10f6e21e24207d24ba2823162383062</td>\n",
       "      <td>Brain</td>\n",
       "      <td>The SCN projects to a set of areas in the hypo...</td>\n",
       "      <td>The body's central biological clock is contain...</td>\n",
       "      <td>{'text': ['SCN'], 'answer_start': [4]}</td>\n",
       "      <td>{'split': 'train', 'model_in_the_loop': 'Combi...</td>\n",
       "    </tr>\n",
       "    <tr>\n",
       "      <th>53</th>\n",
       "      <td>6d753d4a8878b5f5bc496d9a369b8c0b212079a0</td>\n",
       "      <td>Brain</td>\n",
       "      <td>The brain contains several motor areas that pr...</td>\n",
       "      <td>What is at the highest level?</td>\n",
       "      <td>{'text': ['the primary motor cortex'], 'answer...</td>\n",
       "      <td>{'split': 'train', 'model_in_the_loop': 'Combi...</td>\n",
       "    </tr>\n",
       "  </tbody>\n",
       "</table>\n",
       "</div>"
      ],
      "text/plain": [
       "                                          id  title  \\\n",
       "0   7ba1e8f4261d3170fcf42e84a81dd749116fae95  Brain   \n",
       "12  936a8460bfffe437b54cf3ec1e825a3b7b5627a1  Brain   \n",
       "24  e40737d487964dbcd26a223f2799cf56390a98a8  Brain   \n",
       "37  a0f8e785a10f6e21e24207d24ba2823162383062  Brain   \n",
       "53  6d753d4a8878b5f5bc496d9a369b8c0b212079a0  Brain   \n",
       "\n",
       "                                              context  \\\n",
       "0   Another approach to brain function is to exami...   \n",
       "12  Motor systems are areas of the brain that are ...   \n",
       "24  The brain is an organ that serves as the cente...   \n",
       "37  The SCN projects to a set of areas in the hypo...   \n",
       "53  The brain contains several motor areas that pr...   \n",
       "\n",
       "                                             question  \\\n",
       "0    What sare the benifts of the blood brain barrir?   \n",
       "12                            What do you think with?   \n",
       "24                         How are neurons connected?   \n",
       "37  The body's central biological clock is contain...   \n",
       "53                      What is at the highest level?   \n",
       "\n",
       "                                              answers  \\\n",
       "0   {'text': ['isolated from the bloodstream'], 'a...   \n",
       "12         {'text': ['brain'], 'answer_start': [467]}   \n",
       "24      {'text': ['synapses'], 'answer_start': [602]}   \n",
       "37             {'text': ['SCN'], 'answer_start': [4]}   \n",
       "53  {'text': ['the primary motor cortex'], 'answer...   \n",
       "\n",
       "                                             metadata  \n",
       "0   {'split': 'train', 'model_in_the_loop': 'Combi...  \n",
       "12  {'split': 'train', 'model_in_the_loop': 'Combi...  \n",
       "24  {'split': 'train', 'model_in_the_loop': 'Combi...  \n",
       "37  {'split': 'train', 'model_in_the_loop': 'Combi...  \n",
       "53  {'split': 'train', 'model_in_the_loop': 'Combi...  "
      ]
     },
     "execution_count": 3,
     "metadata": {},
     "output_type": "execute_result"
    }
   ],
   "source": [
    "data = load_dataset(\"adversarial_qa\", 'adversarialQA', split=\"train\").to_pandas()\n",
    "data = data.drop_duplicates(subset=[\"context\"])\n",
    "print(f\"Number of unique contexts: {len(data)}\")\n",
    "data.head()"
   ]
  },
  {
   "cell_type": "code",
   "execution_count": 4,
   "metadata": {},
   "outputs": [
    {
     "name": "stdout",
     "output_type": "stream",
     "text": [
      "[{'text': 'Another approach to brain function is to examine the consequences of damage to specific brain areas. Even though it is protected by the skull and meninges, surrounded by cerebrospinal fluid, and isolated from the bloodstream by the blood–brain barrier, the delicate nature of the brain makes it vulnerable to numerous diseases and several types of damage. In humans, the effects of strokes and other types of brain damage have been a key source of information about brain function. Because there is no ability to experimentally control the nature of the damage, however, this information is often difficult to interpret. In animal studies, most commonly involving rats, it is possible to use electrodes or locally injected chemicals to produce precise patterns of damage and then examine the consequences for behavior.'}, {'text': 'Motor systems are areas of the brain that are directly or indirectly involved in producing body movements, that is, in activating muscles. Except for the muscles that control the eye, which are driven by nuclei in the midbrain, all the voluntary muscles in the body are directly innervated by motor neurons in the spinal cord and hindbrain. Spinal motor neurons are controlled both by neural circuits intrinsic to the spinal cord, and by inputs that descend from the brain. The intrinsic spinal circuits implement many reflex responses, and contain pattern generators for rhythmic movements such as walking or swimming. The descending connections from the brain allow for more sophisticated control.'}, {'text': \"The brain is an organ that serves as the center of the nervous system in all vertebrate and most invertebrate animals. Only a few invertebrates such as sponges, jellyfish, adult sea squirts and starfish do not have a brain; diffuse or localised nerve nets are present instead. The brain is located in the head, usually close to the primary sensory organs for such senses as vision, hearing, balance, taste, and smell. The brain is the most complex organ in a vertebrate's body. In a typical human, the cerebral cortex (the largest part) is estimated to contain 15–33 billion neurons, each connected by synapses to several thousand other neurons. These neurons communicate with one another by means of long protoplasmic fibers called axons, which carry trains of signal pulses called action potentials to distant parts of the brain or body targeting specific recipient cells.\"}]\n"
     ]
    }
   ],
   "source": [
    "# extract text data from the dataset and reformat\n",
    "documents = [\n",
    "    {\n",
    "        'text': r['context'],\n",
    "    } for r in data.to_dict(orient='records')\n",
    "]\n",
    "\n",
    "print(documents[:3])"
   ]
  },
  {
   "cell_type": "markdown",
   "metadata": {},
   "source": [
    "### Insert data to the KDB.AI table"
   ]
  },
  {
   "cell_type": "markdown",
   "metadata": {},
   "source": [
    "The `/upsert` instruction is used to insert data to the KDB.AI datastore in batches, with each batch being embedded with `text-embedding-ada-002` before it is added to the table."
   ]
  },
  {
   "cell_type": "code",
   "execution_count": 5,
   "metadata": {},
   "outputs": [
    {
     "data": {
      "application/vnd.jupyter.widget-view+json": {
       "model_id": "252f863cd65f43a184038f45f0116058",
       "version_major": 2,
       "version_minor": 0
      },
      "text/plain": [
       "  0%|          | 0/27 [00:00<?, ?it/s]"
      ]
     },
     "metadata": {},
     "output_type": "display_data"
    }
   ],
   "source": [
    "batchSize = 100\n",
    "\n",
    "# initialise a session with the vector database\n",
    "s = requests.Session()\n",
    "\n",
    "# upsert documents from the dataset in batches\n",
    "for i in tqdm(range(0, len(documents), batchSize)):\n",
    "    i_end = min(len(documents), i+batchSize)\n",
    "    \n",
    "    res = s.post(\n",
    "        \"http://localhost:8000/upsert\",\n",
    "        \n",
    "        headers = {\n",
    "            \"Authorization\": f\"Bearer {BEARER_TOKEN}\"\n",
    "        },\n",
    "        \n",
    "        json = {\n",
    "            \"documents\": documents[i:i_end]\n",
    "        }\n",
    "    )"
   ]
  },
  {
   "cell_type": "markdown",
   "metadata": {},
   "source": [
    "### Query the KDB.AI table"
   ]
  },
  {
   "cell_type": "code",
   "execution_count": 6,
   "metadata": {},
   "outputs": [
    {
     "name": "stdout",
     "output_type": "stream",
     "text": [
      "[{'query': 'Pirates traveled in?'}, {'query': 'What happened during the 40th year of the 20th century?'}, {'query': 'Who rebelled against the Germans with northern Estonia?'}, {'query': '__ was known as the king of Estonian folklore.'}, {'query': 'Which school system is most like a public school system in the US?'}]\n"
     ]
    }
   ],
   "source": [
    "# extract questions and reformat into queries\n",
    "queries = data['question'].tolist()\n",
    "queries = [{'query': queries[i]} for i in range(len(queries))]\n",
    "\n",
    "# choose 5 queries at random \n",
    "i = random.randint(0, len(queries)-5)\n",
    "searchQueries = queries[i:i+5]\n",
    "\n",
    "print(searchQueries)"
   ]
  },
  {
   "cell_type": "markdown",
   "metadata": {},
   "source": [
    "The `/query` instruction is used to extract relevant information from the KDB.AI datastore. The queries are embedded into vectors, and a similarity search algorithm is used to calculate its nearest neighbours, representing the most relevant entries in the table."
   ]
  },
  {
   "cell_type": "code",
   "execution_count": 8,
   "metadata": {},
   "outputs": [
    {
     "name": "stdout",
     "output_type": "stream",
     "text": [
      "<Response [200]>\n"
     ]
    }
   ],
   "source": [
    "# query the vector database\n",
    "results = requests.post(\n",
    "    \"http://localhost:8000/query\",\n",
    "    \n",
    "    headers = {\n",
    "        \"Authorization\": f\"Bearer {BEARER_TOKEN}\"\n",
    "    },\n",
    "    \n",
    "    json = {\n",
    "        'queries': searchQueries\n",
    "    }\n",
    ")\n",
    "\n",
    "print(results)"
   ]
  },
  {
   "cell_type": "markdown",
   "metadata": {},
   "source": [
    "In the cell below, we iterate through each query and its results, and pass this data to ChatGPT, which uses it to respond to the query with natural language."
   ]
  },
  {
   "cell_type": "code",
   "execution_count": 9,
   "metadata": {
    "scrolled": false
   },
   "outputs": [
    {
     "name": "stdout",
     "output_type": "stream",
     "text": [
      "\n",
      "QUERY:\n",
      "Pirates traveled in?\n",
      "\n",
      "CONTEXT:\n",
      "0.35: Perhaps the most famous raid by Oeselian pirates occurred in 1187, with the attack on the Swedish town of Sigtuna by Finnic raiders from Couronia and Oesel. Among the casualties of this raid was the Swedish archbishop Johannes. The city remained occupied for some time, contributing to its decline as a center of commerce in the 13th century and the rise of Uppsala, Visby, Kalmar and Stockholm. The Livonian Chronicle describes the Oeselians as using two kinds of ships, the piratica and the liburna. The former was a warship, the latter mainly a merchant ship. A piratica could carry approximately 30 men and had a high prow shaped like a dragon or a snakehead and a rectangular sail. Viking-age treasures from Estonia mostly contain silver coins and bars. Saaremaa has the richest finds of Viking treasures after Gotland in Sweden.\n",
      "0.36: After that, ships including the San Jeronimo, Los Reyes and Todos los Santos also visited the islands in different years.\n",
      "0.37: The majority of those enslaved and taken to these ports were captured in raids and wars. Usually the captives were taken back to the conquerors' territory as forced labour; after time, they were sometimes acculturated and absorbed into the conquerors' society. A number of slave routes were established throughout Nigeria linking the hinterland areas with the major coastal ports. Some of the more prolific slave traders were linked with the Oyo Empire in the southwest, the Aro Confederacy in the southeast and the Sokoto Caliphate in the north.\n",
      "\n",
      "RESPONSE: \n",
      "Pirates traveled in different types of ships depending on their needs and purposes. Two kinds of ships commonly used by pirates were the piratica and the liburna. The piratica was a warship, capable of carrying approximately 30 men. It had a distinctive high prow, shaped like a dragon or a snakehead, and a rectangular sail. On the other hand, the liburna was primarily a merchant ship but could also be utilized by pirates. These ships allowed pirates to navigate the seas\n",
      "\n",
      "----------------------------------------------------------------------\n",
      "\n",
      "QUERY:\n",
      "What happened during the 40th year of the 20th century?\n",
      "\n",
      "CONTEXT:\n",
      "0.31: Over the course of the 20th century, the world's per-capita gross domestic product grew by a factor of five, much more than all earlier centuries combined (including the 19th with its Industrial Revolution). Many economists make the case that this understates the magnitude of growth, as many of the goods and services consumed at the end of the 20th century, such as improved medicine (causing world life expectancy to increase by more than two decades) and communications technologies, were not available at any price at its beginning. However, the gulf between the world's rich and poor grew wider, and the majority of the global population remained in the poor side of the divide.\n",
      "0.33: The first half of the 20th century in Russia and the Soviet Union was marked by a succession of wars, famines and other disasters, each accompanied by large-scale population losses. Stephen J. Lee estimates that, by the end of World War II in 1945, the Russian population was about 90 million fewer than it could have been otherwise.\n",
      "0.37: War work again brought local prosperity during World War II, this time centered on Boeing aircraft. The war dispersed the city's numerous Japanese-American businessmen due to the Japanese American internment. After the war, the local economy dipped. It rose again with Boeing's growing dominance in the commercial airliner market. Seattle celebrated its restored prosperity and made a bid for world recognition with the Century 21 Exposition, the 1962 World's Fair. Another major local economic downturn was in the late 1960s and early 1970s, at a time when Boeing was heavily affected by the oil crises, loss of Government contracts, and costs and delays associated with the Boeing 747. Many people left the area to look for work elsewhere, and two local real estate agents put up a billboard reading \"Will the last person leaving Seattle – Turn out the lights.\n",
      "\n",
      "RESPONSE: \n",
      "The 40th year of the 20th century was 1940. During this year, several significant events took place. World War II was underway, with Germany invading Denmark and Norway and launching the Battle of France. The Battle of Britain also took place, as Germany attempted to invade the United Kingdom through an aerial campaign. In the Soviet Union, the Great Purge continued, resulting in widespread political repression and execution of perceived enemies of the state. Additionally, the United States implemented the Selective\n",
      "\n",
      "----------------------------------------------------------------------\n",
      "\n",
      "QUERY:\n",
      "Who rebelled against the Germans with northern Estonia?\n",
      "\n",
      "CONTEXT:\n",
      "0.29: The unsuccessful rebellion led to a consolidation of power for the Baltic German minority. For the subsequent centuries they remained the ruling elite in both cities and in the countryside.\n",
      "0.32: On 6 August 1940, Estonia was annexed by the Soviet Union as the Estonian SSR. The provisions in the Estonian constitution requiring a popular referendum to decide on joining a supra-national body were ignored. Instead the vote to join the Soviet Union was taken by those elected in the elections held the previous month. Additionally those who had failed to do their \"political duty\" of voting Estonia into the USSR, specifically those who had failed to have their passports stamped for voting, were condemned to death by Soviet tribunals. The repressions followed with the mass deportations carried out by the Soviets in Estonia on 14 June 1941. Many of the country's political and intellectual leaders were killed or deported to remote areas of the USSR by the Soviet authorities in 1940–1941. Repressive actions were also taken against thousands of ordinary people.\n",
      "0.33: From 1228, after of the Livonian Crusade, through the 1560s, Estonia was part of Terra Mariana, established on 2 February 1207 as a principality of the Holy Roman Empire and proclaimed by Pope Innocent III in 1215 as subject to the Holy See. The southern parts of the country were conquered by Livonian Brothers of the Sword who joined the Teutonic Order in 1237 and became its branch known as the Livonian Order. The Duchy of Estonia was created out of the northern parts of the country and was a direct dominion of the King of Denmark from 1219 until 1346, when it was sold to the Teutonic Order and became part of the Ordenstaat. In 1343, the people of northern Estonia and Saaremaa rebelled against German rule in the St. George's Night Uprising, which was put down by 1345.\n",
      "\n",
      "RESPONSE: \n",
      "The people of northern Estonia, along with those from Saaremaa, rebelled against German rule in the St. George's Night Uprising in 1343.\n",
      "\n",
      "----------------------------------------------------------------------\n",
      "\n",
      "QUERY:\n",
      "__ was known as the king of Estonian folklore.\n",
      "\n",
      "CONTEXT:\n",
      "0.33: As a result of the abolition of serfdom and the availability of education to the native Estonian-speaking population, an active Estonian nationalist movement developed in the 19th century.[citation needed] It began on a cultural level, resulting in the establishment of Estonian language literature, theatre and professional music and led on to the formation of the Estonian national identity and the Age of Awakening. Among the leaders of the movement were Johann Voldemar Jannsen, Jakob Hurt and Carl Robert Jakobson.\n",
      "0.34: This strongly suggests that Estonia was an important transit country during the Viking era.\n",
      "0.35: The tradition of Estonian Song Festivals (Laulupidu) started at the height of the Estonian national awakening in 1869. Today, it is one of the largest amateur choral events in the world. In 2004, about 100,000 people participated in the Song Festival. Since 1928, the Tallinn Song Festival Grounds (Lauluväljak) have hosted the event every five years in July. The last festival took place in July 2014. In addition, Youth Song Festivals are also held every four or five years, the last of them in 2011, and the next is scheduled for 2017.\n",
      "\n",
      "RESPONSE: \n",
      "Jakob Hurt\n",
      "\n",
      "----------------------------------------------------------------------\n",
      "\n",
      "QUERY:\n",
      "Which school system is most like a public school system in the US?\n",
      "\n",
      "CONTEXT:\n",
      "0.37: The Boston Public Schools enrolls 57,000 students attending 145 schools, including the renowned Boston Latin Academy, John D. O'Bryant School of Math & Science, and Boston Latin School. The Boston Latin School, established 1635, is the oldest public high school in the US; Boston also operates the United States' second oldest public high school, and its oldest public elementary school. The system's students are 40% Hispanic or Latino, 35% Black or African American, 13% White, and 9% Asian. There are private, parochial, and charter schools as well, and approximately 3,300 minority students attend participating suburban schools through the Metropolitan Educational Opportunity Council.\n",
      "0.39: A comprehensive school is a state school that does not select its intake on the basis of academic achievement or aptitude. This is in contrast to the selective school system, where admission is restricted on the basis of selection criteria. The term is commonly used in relation to England and Wales, where comprehensive schools were introduced on an experimental basis in the 1940s and became more widespread from 1965. About 90% of British secondary school pupils now attend comprehensive schools. They correspond broadly to the public high school in the United States and Canada and to the German Gesamtschule.\n",
      "0.4: In its 2013 ParkScore ranking, The Trust for Public Land reported that the park system in New York City was the second best park system among the 50 most populous U.S. cities, behind the park system of Minneapolis. ParkScore ranks urban park systems by a formula that analyzes median park size, park acres as percent of city area, the percent of city residents within a half-mile of a park, spending of park services per resident, and the number of playgrounds per 10,000 residents.\n",
      "\n"
     ]
    },
    {
     "name": "stdout",
     "output_type": "stream",
     "text": [
      "RESPONSE: \n",
      "The school system in England and Wales, known as comprehensive schools, is most like a public school system in the US. Comprehensive schools do not select students based on academic achievement or aptitude, similar to public schools in the US. Approximately 90% of secondary school students in England and Wales attend comprehensive schools, which are similar to American public high schools.\n",
      "\n",
      "----------------------------------------------------------------------\n"
     ]
    }
   ],
   "source": [
    "# iterate through each set of queries/results\n",
    "for query_response in results.json()['results']:\n",
    "    query = query_response['query']\n",
    "    answers = []\n",
    "    scores = []\n",
    "    \n",
    "    # extract answers and scores from each result\n",
    "    for result in query_response['results']:\n",
    "        \n",
    "        # answer = textual information related to the query\n",
    "        answers.append(result['text'])\n",
    "        \n",
    "        # score = distance between the query vector and the answer vector (smaller=better!)\n",
    "        scores.append(round(result['score'], 2))\n",
    "    \n",
    "    # print the query\n",
    "    print(\"\\nQUERY:\\n\"+query)\n",
    "    \n",
    "    # print the query responses, and their scores\n",
    "    print(\"\\nCONTEXT:\\n\"+\"\\n\".join([f\"{s}: {a}\" for a, s in zip(answers, scores)])+\"\\n\")\n",
    "    \n",
    "    # format the query and its answers into GPT messages\n",
    "    messages = [\n",
    "        {\"role\": \"system\", \"content\": f\"You are a helpful assistant with the following knowledge: {answers}\"},\n",
    "        {\"role\": \"user\", \"content\": f\"Using your knowledge, answer this query: {query}\"}\n",
    "    ]\n",
    "    \n",
    "    # send the messages to a GPT model\n",
    "    response = openai.ChatCompletion.create(\n",
    "      model=\"gpt-3.5-turbo\",\n",
    "      messages=messages,\n",
    "      max_tokens=100,\n",
    "      n=1,\n",
    "      stop=None,            \n",
    "    )\n",
    "\n",
    "    # extract the generated response from the API response\n",
    "    generated_response =response['choices'][0]['message']['content']\n",
    "    \n",
    "    # Print the generated response\n",
    "    print(f\"RESPONSE: \\n{generated_response}\\n\")\n",
    "    print(\"-\"*70)"
   ]
  }
 ],
 "metadata": {
  "kernelspec": {
   "display_name": "Python 3 (ipykernel)",
   "language": "python",
   "name": "python3"
  },
  "language_info": {
   "codemirror_mode": {
    "name": "ipython",
    "version": 3
   },
   "file_extension": ".py",
   "mimetype": "text/x-python",
   "name": "python",
   "nbconvert_exporter": "python",
   "pygments_lexer": "ipython3",
   "version": "3.10.12"
  }
 },
 "nbformat": 4,
 "nbformat_minor": 4
}
